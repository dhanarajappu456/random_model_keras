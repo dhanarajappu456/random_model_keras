{
  "nbformat": 4,
  "nbformat_minor": 0,
  "metadata": {
    "colab": {
      "name": "model_nn_.ipynb",
      "provenance": [],
      "authorship_tag": "ABX9TyMJP4vVMtnmm6Uxcw1wKset",
      "include_colab_link": true
    },
    "kernelspec": {
      "name": "python3",
      "display_name": "Python 3"
    },
    "language_info": {
      "name": "python"
    }
  },
  "cells": [
    {
      "cell_type": "markdown",
      "metadata": {
        "id": "view-in-github",
        "colab_type": "text"
      },
      "source": [
        "<a href=\"https://colab.research.google.com/github/dhanarajappu456/random_model_keras/blob/main/model_nn_.ipynb\" target=\"_parent\"><img src=\"https://colab.research.google.com/assets/colab-badge.svg\" alt=\"Open In Colab\"/></a>"
      ]
    },
    {
      "cell_type": "code",
      "metadata": {
        "colab": {
          "base_uri": "https://localhost:8080/"
        },
        "id": "aGZ19LDvrHHI",
        "outputId": "a067ac58-5043-4557-f9fb-33593f9df841"
      },
      "source": [
        "#dummy data create\n",
        "'''\n",
        "out of 2100 number of people\n",
        "->95% above age 65 is having side effects\n",
        "->95% below age 65 is having no side effects\n",
        "\n",
        "create a model that predict whether or not the person has side effects\n",
        "or not\n",
        "'''\n",
        "import numpy as np\n",
        "from random import randint \n",
        "from sklearn.preprocessing import MinMaxScaler\n",
        "\n",
        "train_labels=[]\n",
        "train_samples=[]\n",
        "\n",
        "\n",
        "for i in range(1000):\n",
        "  random_younger=randint(13,64)\n",
        "  train_samples.append(random_younger)\n",
        "  train_labels.append(0)\n",
        "  random_older =  randint(65,100)\n",
        "  train_samples.append(random_older)\n",
        "  train_labels.append(1)\n",
        "\n",
        "\n",
        "for i in range(50):\n",
        "  random_younger=randint(13,64)\n",
        "  train_samples.append(random_younger)\n",
        "  train_labels.append(1)\n",
        "  random_older =  randint(65,100)\n",
        "  train_samples.append(random_older)\n",
        "  train_labels.append(0)\n",
        "\n",
        "train_labels=np.array(train_labels)\n",
        "train_samples=np.array(train_samples)\n",
        "\n",
        "#scaling \n",
        "print(train_samples.shape)\n",
        "\n",
        "\n",
        "scaler =MinMaxScaler(feature_range=(0,1))\n",
        "scaled_train_samples=scaler.fit_transform((train_samples).reshape(-1,1))\n",
        "scaled_train_samples"
      ],
      "execution_count": 3,
      "outputs": [
        {
          "output_type": "stream",
          "text": [
            "(2100,)\n"
          ],
          "name": "stdout"
        },
        {
          "output_type": "execute_result",
          "data": {
            "text/plain": [
              "array([[0.4137931 ],\n",
              "       [0.73563218],\n",
              "       [0.22988506],\n",
              "       ...,\n",
              "       [0.87356322],\n",
              "       [0.42528736],\n",
              "       [0.63218391]])"
            ]
          },
          "metadata": {
            "tags": []
          },
          "execution_count": 3
        }
      ]
    },
    {
      "cell_type": "code",
      "metadata": {
        "id": "IyY09KoGDEUL",
        "outputId": "ae7982a8-e7b6-453a-b3f2-a597b2e15ec8",
        "colab": {
          "base_uri": "https://localhost:8080/"
        }
      },
      "source": [
        "from keras.models import Sequential\n",
        "from keras.layers import Dense,Activation\n",
        "from keras.optimizers import Adam\n",
        "from keras.metrics import categorical_crossentropy\n",
        "\n",
        "model=Sequential(\n",
        "    [\n",
        "     Dense(16,input_shape=(1,),activation='relu'),\n",
        "     Dense(32,activation='relu'),\n",
        "     Dense(2, activation='softmax')\n",
        "    ]\n",
        ")\n",
        "\n",
        "model.compile(Adam(lr=0.001),loss ='sparse_categorical_crossentropy')\n",
        "model.fit(scaled_train_samples,train_labels,batch_size=10,epochs=20,shuffle=True,verbose=1)"
      ],
      "execution_count": 10,
      "outputs": [
        {
          "output_type": "stream",
          "text": [
            "Epoch 1/20\n",
            "210/210 [==============================] - 0s 945us/step - loss: 0.6449\n",
            "Epoch 2/20\n",
            "210/210 [==============================] - 0s 1ms/step - loss: 0.3514\n",
            "Epoch 3/20\n",
            "210/210 [==============================] - 0s 1ms/step - loss: 0.2755\n",
            "Epoch 4/20\n",
            "210/210 [==============================] - 0s 959us/step - loss: 0.2563\n",
            "Epoch 5/20\n",
            "210/210 [==============================] - 0s 1ms/step - loss: 0.2543\n",
            "Epoch 6/20\n",
            "210/210 [==============================] - 0s 957us/step - loss: 0.2365\n",
            "Epoch 7/20\n",
            "210/210 [==============================] - 0s 1ms/step - loss: 0.2445\n",
            "Epoch 8/20\n",
            "210/210 [==============================] - 0s 1ms/step - loss: 0.2724\n",
            "Epoch 9/20\n",
            "210/210 [==============================] - 0s 1ms/step - loss: 0.2577\n",
            "Epoch 10/20\n",
            "210/210 [==============================] - 0s 1ms/step - loss: 0.2322\n",
            "Epoch 11/20\n",
            "210/210 [==============================] - 0s 955us/step - loss: 0.2451\n",
            "Epoch 12/20\n",
            "210/210 [==============================] - 0s 1ms/step - loss: 0.2428\n",
            "Epoch 13/20\n",
            "210/210 [==============================] - 0s 1ms/step - loss: 0.2214\n",
            "Epoch 14/20\n",
            "210/210 [==============================] - 0s 976us/step - loss: 0.2267\n",
            "Epoch 15/20\n",
            "210/210 [==============================] - 0s 925us/step - loss: 0.2323\n",
            "Epoch 16/20\n",
            "210/210 [==============================] - 0s 1ms/step - loss: 0.2278\n",
            "Epoch 17/20\n",
            "210/210 [==============================] - 0s 1ms/step - loss: 0.2220\n",
            "Epoch 18/20\n",
            "210/210 [==============================] - 0s 1ms/step - loss: 0.2339\n",
            "Epoch 19/20\n",
            "210/210 [==============================] - 0s 1ms/step - loss: 0.2159\n",
            "Epoch 20/20\n",
            "210/210 [==============================] - 0s 1ms/step - loss: 0.2325\n"
          ],
          "name": "stdout"
        },
        {
          "output_type": "execute_result",
          "data": {
            "text/plain": [
              "<tensorflow.python.keras.callbacks.History at 0x7f26f6607390>"
            ]
          },
          "metadata": {
            "tags": []
          },
          "execution_count": 10
        }
      ]
    }
  ]
}